{
 "cells": [
  {
   "cell_type": "code",
   "execution_count": 1,
   "metadata": {},
   "outputs": [
    {
     "name": "stderr",
     "output_type": "stream",
     "text": [
      "\u001b[32m2024-10-09 14:26:17\u001b[0m | .\n"
     ]
    },
    {
     "name": "stdout",
     "output_type": "stream",
     "text": [
      "utils::ISCOLORED=True\n"
     ]
    }
   ],
   "source": [
    "import numpy as np\n",
    "import matplotlib.pyplot as plt\n",
    "import torch\n",
    "from torch.utils.data import DataLoader, TensorDataset\n",
    "from tqdm import tqdm\n",
    "from scipy.ndimage import convolve1d\n",
    "\n",
    "import models\n",
    "import utils\n",
    "import main\n",
    "\n",
    "%load_ext autoreload\n",
    "%autoreload \n",
    "\n",
    "logger = models.logger\n",
    "logger(\".\")"
   ]
  },
  {
   "cell_type": "markdown",
   "metadata": {},
   "source": [
    "## Initialization"
   ]
  },
  {
   "cell_type": "markdown",
   "metadata": {},
   "source": [
    "**SETTINGS definition**"
   ]
  },
  {
   "cell_type": "code",
   "execution_count": 2,
   "metadata": {},
   "outputs": [],
   "source": [
    "NUM_BTSP_SAMPLES = 100\n",
    "USE_BIAS = True"
   ]
  },
  {
   "cell_type": "markdown",
   "metadata": {},
   "source": [
    "**Autoencoder**"
   ]
  },
  {
   "cell_type": "code",
   "execution_count": 3,
   "metadata": {},
   "outputs": [
    {
     "name": "stderr",
     "output_type": "stream",
     "text": [
      "\u001b[32m2024-10-09 14:26:19\u001b[0m | Pre-selected session: [0]\n",
      "/Users/daniekru/Research/lab/KAMemory/src/models.py:359: FutureWarning: You are using `torch.load` with `weights_only=False` (the current default value), which uses the default pickle module implicitly. It is possible to construct malicious pickle data which will execute arbitrary code during unpickling (See https://github.com/pytorch/pytorch/blob/main/SECURITY.md#untrusted-models for more details). In a future release, the default value for `weights_only` will be flipped to `True`. This limits the functions that could be executed during unpickling. Arbitrary objects will no longer be allowed to be loaded via this mode unless they are explicitly allowlisted by the user via `torch.serialization.add_safe_globals`. We recommend you start setting `weights_only=True` for any use case where you don't have full control of the loaded file. Please open an issue on GitHub for any issues related to this experimental feature.\n",
      "  model.load_state_dict(torch.load(f\"{cache_dir}/{session}/autoencoder.pt\"))\n",
      "\u001b[32m2024-10-09 14:26:19\u001b[0m | info:\n",
      "\u001b[32m2024-10-09 14:26:19\u001b[0m | autoencoder=Autoencoder(\n",
      "  (encoder): Sequential(\n",
      "    (0): Linear(in_features=50, out_features=50, bias=True)\n",
      "  )\n",
      "  (decoder): Sequential(\n",
      "    (0): Linear(in_features=50, out_features=50, bias=True)\n",
      "  )\n",
      ")\n",
      "\u001b[32m2024-10-09 14:26:19\u001b[0m | <<< Loaded session >>>\n"
     ]
    },
    {
     "name": "stdout",
     "output_type": "stream",
     "text": [
      "{'K': 5,\n",
      " 'K_lat': 15,\n",
      " 'beta': 60,\n",
      " 'dim_ca1': 50,\n",
      " 'dim_ca3': 50,\n",
      " 'dim_ei': 50,\n",
      " 'dim_eo': 50,\n",
      " 'epochs': 500,\n",
      " 'loss_ae': 0.05726,\n",
      " 'num_reconstructions': 1,\n",
      " 'num_samples': 10000}\n"
     ]
    }
   ],
   "source": [
    "# index of the autoencoder to load\n",
    "idx = 0\n",
    "\n",
    "# load\n",
    "info, autoencoder = models.load_session(idx=idx)\n",
    "\n",
    "# information\n",
    "dim_ei = info[\"dim_ei\"]\n",
    "dim_ca3 = info[\"dim_ca3\"]\n",
    "dim_ca1 = info[\"dim_ca1\"]\n",
    "dim_eo = info[\"dim_eo\"]\n",
    "K_lat = info[\"K_lat\"]\n",
    "beta = info[\"beta\"]\n",
    "K = info[\"K\"]\n",
    "\n",
    "# number training samples used for the AE\n",
    "num_samples = info[\"num_samples\"]\n",
    "\n",
    "# get parameters\n",
    "W_ei_ca1, W_ca1_eo, B_ei_ca1, B_ca1_eo = autoencoder.get_weights(bias=USE_BIAS)\n",
    "\n",
    "logger(f\"{autoencoder=}\")\n",
    "logger(\"<<< Loaded session >>>\")"
   ]
  },
  {
   "cell_type": "markdown",
   "metadata": {},
   "source": [
    "**Dataset**"
   ]
  },
  {
   "cell_type": "code",
   "execution_count": 4,
   "metadata": {},
   "outputs": [
    {
     "name": "stderr",
     "output_type": "stream",
     "text": [
      "\u001b[32m2024-10-09 14:26:19\u001b[0m | dataset constructed.\n"
     ]
    }
   ],
   "source": [
    "\"\"\" data \"\"\"\n",
    "\n",
    "num_rep = 5\n",
    "datasets = []\n",
    "\n",
    "stimuli = utils.sparse_stimulus_generator(N=NUM_BTSP_SAMPLES,\n",
    "                                          K=K,\n",
    "                                          size=dim_ei,\n",
    "                                          plot=False)\n",
    "\n",
    "datasets = []\n",
    "for k in range(num_samples):\n",
    "    data = torch.tensor(stimuli[:k+1], dtype=torch.float32)\n",
    "    dataloader = DataLoader(TensorDataset(data),\n",
    "                            batch_size=1,\n",
    "                            shuffle=False)\n",
    "    datasets += [dataloader]\n",
    "\n",
    "logger(\"dataset constructed.\")"
   ]
  },
  {
   "cell_type": "code",
   "execution_count": 5,
   "metadata": {},
   "outputs": [
    {
     "name": "stderr",
     "output_type": "stream",
     "text": [
      "\u001b[32m2024-10-09 14:26:19\u001b[0m | <<< Data generated >>>\n"
     ]
    }
   ],
   "source": [
    "training_sample_btsp = utils.sparse_stimulus_generator(N=NUM_BTSP_SAMPLES,\n",
    "                                                       K=K,\n",
    "                                                       size=dim_ei,\n",
    "                                                       plot=False)\n",
    "\n",
    "\n",
    "logger(\"<<< Data generated >>>\")"
   ]
  },
  {
   "cell_type": "markdown",
   "metadata": {},
   "source": [
    "## ACCURACY MATRIX"
   ]
  },
  {
   "cell_type": "code",
   "execution_count": 7,
   "metadata": {},
   "outputs": [
    {
     "name": "stderr",
     "output_type": "stream",
     "text": [
      "\u001b[32m2024-10-09 14:27:27\u001b[0m | %MTL: MTL(dim_ei=50, dim_ca1=50, dim_ca3=50, dim_eo=50,  bias=True, beta=60, alpha=0.01, K_l=15, K_o=5\n",
      "\u001b[32m2024-10-09 14:27:27\u001b[0m | \u001b[32mnb of datasets: 100\u001b[0m\n"
     ]
    },
    {
     "ename": "TypeError",
     "evalue": "'DataLoader' object is not subscriptable",
     "output_type": "error",
     "traceback": [
      "\u001b[0;31m---------------------------------------------------------------------------\u001b[0m",
      "\u001b[0;31mTypeError\u001b[0m                                 Traceback (most recent call last)",
      "Cell \u001b[0;32mIn[7], line 31\u001b[0m\n\u001b[1;32m     24\u001b[0m epochs \u001b[38;5;241m=\u001b[39m \u001b[38;5;241m1\u001b[39m\n\u001b[1;32m     25\u001b[0m \u001b[38;5;28;01mfor\u001b[39;00m _ \u001b[38;5;129;01min\u001b[39;00m \u001b[38;5;28mrange\u001b[39m(epochs):\n\u001b[1;32m     26\u001b[0m    \u001b[38;5;66;03m# _, model = utils.testing(data=training_sample_btsp,\u001b[39;00m\n\u001b[1;32m     27\u001b[0m    \u001b[38;5;66;03m#                                 model=model,\u001b[39;00m\n\u001b[1;32m     28\u001b[0m    \u001b[38;5;66;03m#                                 column=True)\u001b[39;00m\n\u001b[1;32m     29\u001b[0m \n\u001b[1;32m     30\u001b[0m     \u001b[38;5;66;03m#model.pause_lr()\u001b[39;00m\n\u001b[0;32m---> 31\u001b[0m     acc, _, \u001b[38;5;241m=\u001b[39m \u001b[43mutils\u001b[49m\u001b[38;5;241;43m.\u001b[39;49m\u001b[43mprogressive_testing\u001b[49m\u001b[43m(\u001b[49m\u001b[43mdata\u001b[49m\u001b[38;5;241;43m=\u001b[39;49m\u001b[43mtraining_sample_btsp\u001b[49m\u001b[43m,\u001b[49m\n\u001b[1;32m     32\u001b[0m \u001b[43m                                \u001b[49m\u001b[43mmodel\u001b[49m\u001b[38;5;241;43m=\u001b[39;49m\u001b[43mmodel\u001b[49m\u001b[43m)\u001b[49m\n\u001b[1;32m     34\u001b[0m plt\u001b[38;5;241m.\u001b[39mimshow(acc, vmin\u001b[38;5;241m=\u001b[39m\u001b[38;5;241m0\u001b[39m)\n\u001b[1;32m     35\u001b[0m plt\u001b[38;5;241m.\u001b[39mcolorbar();\n",
      "File \u001b[0;32m~/Research/lab/KAMemory/src/utils.py:427\u001b[0m, in \u001b[0;36mprogressive_testing\u001b[0;34m(data, model)\u001b[0m\n\u001b[1;32m    421\u001b[0m \u001b[38;5;28;01mwith\u001b[39;00m torch\u001b[38;5;241m.\u001b[39mno_grad():\n\u001b[1;32m    422\u001b[0m \n\u001b[1;32m    423\u001b[0m     \u001b[38;5;66;03m# loop over all patterns\u001b[39;00m\n\u001b[1;32m    424\u001b[0m     \u001b[38;5;28;01mfor\u001b[39;00m i, x \u001b[38;5;129;01min\u001b[39;00m \u001b[38;5;28menumerate\u001b[39m(datasets):\n\u001b[1;32m    425\u001b[0m \n\u001b[1;32m    426\u001b[0m         \u001b[38;5;66;03m# logger.debug(f\"dataset {i}\")\u001b[39;00m\n\u001b[0;32m--> 427\u001b[0m         x \u001b[38;5;241m=\u001b[39m \u001b[43mx\u001b[49m\u001b[43m[\u001b[49m\u001b[38;5;241;43m0\u001b[39;49m\u001b[43m]\u001b[49m\u001b[38;5;241m.\u001b[39mreshape(\u001b[38;5;241m-\u001b[39m\u001b[38;5;241m1\u001b[39m, \u001b[38;5;241m1\u001b[39m)\n\u001b[1;32m    429\u001b[0m         \u001b[38;5;66;03m# Forward pass\u001b[39;00m\n\u001b[1;32m    430\u001b[0m         outputs \u001b[38;5;241m=\u001b[39m model(x)\n",
      "\u001b[0;31mTypeError\u001b[0m: 'DataLoader' object is not subscriptable"
     ]
    }
   ],
   "source": [
    "\"\"\" mtl training \"\"\"\n",
    "\n",
    "# get weights from the autoencoder\n",
    "if USE_BIAS:\n",
    "    W_ei_ca1, W_ca1_eo, B_ei_ca1, B_ca1_eo = autoencoder.get_weights(bias=True)\n",
    "else:\n",
    "    W_ei_ca1, W_ca1_eo = autoencoder.get_weights(bias=False)\n",
    "    B_ei_ca1 = None\n",
    "    B_ca1_eo = None\n",
    "\n",
    "# make model\n",
    "model = models.MTL(W_ei_ca1=W_ei_ca1,\n",
    "            W_ca1_eo=W_ca1_eo,\n",
    "            B_ei_ca1=B_ei_ca1,\n",
    "            B_ca1_eo=B_ca1_eo,\n",
    "            dim_ca3=dim_ca3,\n",
    "            K_lat=K_lat,\n",
    "            K_out=K,\n",
    "            beta=beta)\n",
    "\n",
    "logger(f\"%MTL: {model}\")\n",
    "\n",
    "# train model | testing = training without backprop\n",
    "epochs = 1\n",
    "for _ in range(epochs):\n",
    "   # _, model = utils.testing(data=training_sample_btsp,\n",
    "   #                                 model=model,\n",
    "   #                                 column=True)\n",
    "\n",
    "    #model.pause_lr()\n",
    "    acc, _, = utils.progressive_testing(data=training_sample_btsp,\n",
    "                                model=model)\n",
    "\n",
    "plt.imshow(acc, vmin=0)\n",
    "plt.colorbar();"
   ]
  },
  {
   "cell_type": "code",
   "execution_count": 7,
   "metadata": {},
   "outputs": [
    {
     "data": {
      "text/plain": [
       "tensor([[0.5235]])"
      ]
     },
     "execution_count": 7,
     "metadata": {},
     "output_type": "execute_result"
    }
   ],
   "source": [
    "acc"
   ]
  },
  {
   "cell_type": "code",
   "execution_count": 8,
   "metadata": {},
   "outputs": [
    {
     "data": {
      "text/plain": [
       "(100, 50)"
      ]
     },
     "execution_count": 8,
     "metadata": {},
     "output_type": "execute_result"
    }
   ],
   "source": [
    "training_sample_btsp.shape"
   ]
  }
 ],
 "metadata": {
  "kernelspec": {
   "display_name": "Python 3 (ipykernel)",
   "language": "python",
   "name": "python3"
  },
  "language_info": {
   "codemirror_mode": {
    "name": "ipython",
    "version": 3
   },
   "file_extension": ".py",
   "mimetype": "text/x-python",
   "name": "python",
   "nbconvert_exporter": "python",
   "pygments_lexer": "ipython3",
   "version": "3.11.9"
  }
 },
 "nbformat": 4,
 "nbformat_minor": 4
}
