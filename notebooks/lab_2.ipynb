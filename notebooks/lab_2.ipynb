{
 "cells": [
  {
   "cell_type": "code",
   "execution_count": 1,
   "metadata": {},
   "outputs": [
    {
     "name": "stderr",
     "output_type": "stream",
     "text": [
      "\u001b[32m2024-08-27 18:34:55\u001b[0m | .\n"
     ]
    }
   ],
   "source": [
    "import numpy as np\n",
    "import matplotlib.pyplot as plt\n",
    "import torch\n",
    "from torch.utils.data import DataLoader, TensorDataset\n",
    "\n",
    "import os\n",
    "os.chdir(\"..\")\n",
    "import src.models as models\n",
    "import src.utils as utils\n",
    "import src.main as main\n",
    "from tqdm import tqdm\n",
    "\n",
    "%load_ext autoreload\n",
    "%autoreload \n",
    "\n",
    "logger = utils.setup_logger(__name__)\n",
    "logger(\".\")"
   ]
  },
  {
   "cell_type": "markdown",
   "metadata": {},
   "source": [
    "---"
   ]
  },
  {
   "cell_type": "markdown",
   "metadata": {},
   "source": [
    "#### Settings"
   ]
  },
  {
   "cell_type": "code",
   "execution_count": 2,
   "metadata": {},
   "outputs": [
    {
     "name": "stderr",
     "output_type": "stream",
     "text": [
      "\u001b[32m2024-08-27 18:34:55\u001b[0m | Saved sessions:\n",
      "\u001b[32m2024-08-27 18:34:55\u001b[0m | Pre-selected session: [0]\n",
      "/Users/daniekru/Research/lab/KAMemory/src/models.py:403: FutureWarning: You are using `torch.load` with `weights_only=False` (the current default value), which uses the default pickle module implicitly. It is possible to construct malicious pickle data which will execute arbitrary code during unpickling (See https://github.com/pytorch/pytorch/blob/main/SECURITY.md#untrusted-models for more details). In a future release, the default value for `weights_only` will be flipped to `True`. This limits the functions that could be executed during unpickling. Arbitrary objects will no longer be allowed to be loaded via this mode unless they are explicitly allowlisted by the user via `torch.serialization.add_safe_globals`. We recommend you start setting `weights_only=True` for any use case where you don't have full control of the loaded file. Please open an issue on GitHub for any issues related to this experimental feature.\n",
      "  model.load_state_dict(torch.load(f\"{cache_dir}/{session}/autoencoder.pt\"))\n",
      "\u001b[32m2024-08-27 18:34:55\u001b[0m | info:\n",
      "\u001b[32m2024-08-27 18:34:55\u001b[0m | <<< Loaded session >>>\n"
     ]
    },
    {
     "name": "stdout",
     "output_type": "stream",
     "text": [
      "[0] ae_20_1341\n",
      "[1] ae_3\n",
      "[2] ae_19_1731\n",
      "[3] ae_20_1332\n",
      "{'K': 5,\n",
      " 'K_lat': 15,\n",
      " 'beta': 60,\n",
      " 'dim_ca1': 50,\n",
      " 'dim_ca3': 50,\n",
      " 'dim_ei': 50,\n",
      " 'dim_eo': 50,\n",
      " 'epochs': 500,\n",
      " 'loss_ae': 0.05726,\n",
      " 'num_reconstructions': 1,\n",
      " 'num_samples': 10000}\n"
     ]
    }
   ],
   "source": [
    "class Settings:\n",
    "    num = 100\n",
    "    load = True\n",
    "    idx = 0\n",
    "    use_bias = False\n",
    "    \n",
    "args = Settings()\n",
    "\n",
    "if args.load:\n",
    "    info, autoencoder = models.load_session(idx=args.idx)\n",
    "    dim_ei = info[\"dim_ei\"]\n",
    "    dim_ca3 = info[\"dim_ca3\"]\n",
    "    dim_ca1 = info[\"dim_ca1\"]\n",
    "    dim_eo = info[\"dim_eo\"]\n",
    "\n",
    "    num_samples = info[\"num_samples\"]\n",
    "\n",
    "    K_lat = info[\"K_lat\"]\n",
    "    beta = info[\"beta\"]\n",
    "    K = info[\"K\"]\n",
    "\n",
    "    logger(\"<<< Loaded session >>>\")\n",
    "else:\n",
    "    dim_ei = 50\n",
    "    dim_ca3 = 50 \n",
    "    dim_ca1 = 50\n",
    "    dim_eo = dim_ei\n",
    "\n",
    "    # data settings\n",
    "    num_samples = 300\n",
    "\n",
    "    # model hyper-parameters\n",
    "    K = 5\n",
    "    K_lat = 15\n",
    "    beta = 60\n",
    "\n",
    "    # autoencoder\n",
    "    autoencoder = Autoencoder(input_dim=dim_ei,\n",
    "                              encoding_dim=dim_ca1,\n",
    "                              activation=None,\n",
    "                              K=K_lat,\n",
    "                              beta=beta,\n",
    "                              use_bias=args.use_bias)\n",
    "    logger(f\"%Autoencoder: {autoencoder}\")"
   ]
  },
  {
   "cell_type": "markdown",
   "metadata": {},
   "source": [
    "#### Dataset"
   ]
  },
  {
   "cell_type": "code",
   "execution_count": 3,
   "metadata": {},
   "outputs": [
    {
     "name": "stderr",
     "output_type": "stream",
     "text": [
      "\u001b[32m2024-08-27 18:34:56\u001b[0m | <<< Data generated >>>\n"
     ]
    }
   ],
   "source": [
    "training_samples = utils.sparse_stimulus_generator(N=num_samples,\n",
    "                                                   K=K,\n",
    "                                                   size=dim_ei,\n",
    "                                                   plot=False)\n",
    "test_samples = utils.sparse_stimulus_generator(N=num_samples,\n",
    "                                               K=K,\n",
    "                                               size=dim_ei,\n",
    "                                               plot=False)\n",
    "\n",
    "# dataset for btsp\n",
    "num_btsp_samples = args.num\n",
    "training_sample_btsp = training_samples[np.random.choice(\n",
    "                        range(training_samples.shape[0]),\n",
    "                        num_btsp_samples, replace=False)]\n",
    "\n",
    "\n",
    "logger(\"<<< Data generated >>>\")"
   ]
  },
  {
   "cell_type": "code",
   "execution_count": 4,
   "metadata": {},
   "outputs": [
    {
     "name": "stderr",
     "output_type": "stream",
     "text": [
      "\u001b[32m2024-08-27 18:34:56\u001b[0m | %MTL: MTL(dim_ei=50, dim_ca1=50, dim_ca3=50, dim_eo=50,  bias=False, lr=1.0,beta=60, alpha=0.01, K_l=15, K_o=5\n",
      "/Users/daniekru/Research/lab/KAMemory/src/utils.py:399: UserWarning: To copy construct from a tensor, it is recommended to use sourceTensor.clone().detach() or sourceTensor.clone().detach().requires_grad_(True), rather than torch.tensor(sourceTensor).\n",
      "  data = torch.tensor(data[:k+1], dtype=torch.float32).detach()\n"
     ]
    },
    {
     "name": "stdout",
     "output_type": "stream",
     "text": [
      "0 tensor([[0.],\n",
      "        [0.],\n",
      "        [0.],\n",
      "        [1.],\n",
      "        [1.],\n",
      "        [0.],\n",
      "        [0.],\n",
      "        [0.],\n",
      "        [0.],\n",
      "        [0.],\n",
      "        [0.],\n",
      "        [0.],\n",
      "        [0.],\n",
      "        [0.],\n",
      "        [0.],\n",
      "        [0.],\n",
      "        [0.],\n",
      "        [0.],\n",
      "        [0.],\n",
      "        [0.],\n",
      "        [0.],\n",
      "        [0.],\n",
      "        [0.],\n",
      "        [1.],\n",
      "        [0.],\n",
      "        [0.],\n",
      "        [0.],\n",
      "        [0.],\n",
      "        [0.],\n",
      "        [0.],\n",
      "        [0.],\n",
      "        [1.],\n",
      "        [0.],\n",
      "        [0.],\n",
      "        [0.],\n",
      "        [0.],\n",
      "        [0.],\n",
      "        [0.],\n",
      "        [0.],\n",
      "        [0.],\n",
      "        [1.],\n",
      "        [0.],\n",
      "        [0.],\n",
      "        [0.],\n",
      "        [0.],\n",
      "        [0.],\n",
      "        [0.],\n",
      "        [0.],\n",
      "        [0.],\n",
      "        [0.]])\n",
      "0 0\n"
     ]
    },
    {
     "data": {
      "image/png": "[encoded data removed]",
      "text/plain": [
       "<Figure size 640x480 with 2 Axes>"
      ]
     },
     "metadata": {},
     "output_type": "display_data"
    }
   ],
   "source": [
    "\"\"\" mtl training \"\"\"\n",
    "\n",
    "# get weights from the autoencoder\n",
    "if args.use_bias:\n",
    "    W_ei_ca1, W_ca1_eo, B_ei_ca1, B_ca1_eo = autoencoder.get_weights(bias=True)\n",
    "else:\n",
    "    W_ei_ca1, W_ca1_eo = autoencoder.get_weights(bias=False)\n",
    "    B_ei_ca1 = None\n",
    "    B_ca1_eo = None\n",
    "\n",
    "# make model\n",
    "model = models.MTL(W_ei_ca1=W_ei_ca1,\n",
    "            W_ca1_eo=W_ca1_eo,\n",
    "            B_ei_ca1=B_ei_ca1,\n",
    "            B_ca1_eo=B_ca1_eo,\n",
    "            dim_ca3=dim_ca3,\n",
    "            lr=1.,\n",
    "            K_lat=K_lat,\n",
    "            K_out=K,\n",
    "            beta=beta)\n",
    "\n",
    "logger(f\"%MTL: {model}\")\n",
    "\n",
    "# train model | testing = training without backprop\n",
    "epochs = 1\n",
    "for _ in range(epochs):\n",
    "   # _, model = utils.testing(data=training_sample_btsp,\n",
    "   #                                 model=model,\n",
    "   #                                 column=True)\n",
    "\n",
    "    #model.pause_lr()\n",
    "    acc, _, = utils.progressive_testing(data=training_sample_btsp,\n",
    "                                model=model)\n",
    "\n",
    "plt.imshow(acc, vmin=0)\n",
    "plt.colorbar();"
   ]
  },
  {
   "cell_type": "code",
   "execution_count": 5,
   "metadata": {},
   "outputs": [
    {
     "data": {
      "text/plain": [
       "(100, 50)"
      ]
     },
     "execution_count": 5,
     "metadata": {},
     "output_type": "execute_result"
    }
   ],
   "source": [
    "training_sample_btsp.shape"
   ]
  },
  {
   "cell_type": "markdown",
   "metadata": {},
   "source": [
    "#### **AE** training"
   ]
  },
  {
   "cell_type": "code",
   "execution_count": 6,
   "metadata": {},
   "outputs": [
    {
     "name": "stderr",
     "output_type": "stream",
     "text": [
      "100%|██████████████████████████████████████████| 100/100 [00:00<00:00, 9353.73it/s]\n"
     ]
    }
   ],
   "source": [
    "# train autoencoder\n",
    "if not args.load:\n",
    "    epochs = 400\n",
    "    loss_ae, autoencoder = utils.train_autoencoder(\n",
    "                    training_data=training_samples,\n",
    "                    test_data=test_samples,\n",
    "                    model=autoencoder,\n",
    "                    epochs=int(epochs),\n",
    "                    batch_size=10, learning_rate=1e-3)\n",
    "    logger(f\"<<< Autoencoder trained [loss={loss_ae:.4f}] >>>\")\n",
    "\n",
    "# reconstruct data\n",
    "out_ae, latent_ae = utils.reconstruct_data(data=training_sample_btsp,\n",
    "                                num=num_btsp_samples,\n",
    "                                model=autoencoder,\n",
    "                                show=False, \n",
    "                                plot=False)"
   ]
  },
  {
   "cell_type": "markdown",
   "metadata": {},
   "source": [
    "#### **MTL** training"
   ]
  },
  {
   "cell_type": "code",
   "execution_count": 6,
   "metadata": {},
   "outputs": [],
   "source": [
    "W_ei_ca1, W_ca1_eo, B_ei_ca1, B_ca1_eo = autoencoder.get_weights(bias=True)"
   ]
  },
  {
   "cell_type": "markdown",
   "metadata": {},
   "source": [
    "#### attempt 1"
   ]
  },
  {
   "cell_type": "code",
   "execution_count": 4,
   "metadata": {},
   "outputs": [
    {
     "name": "stderr",
     "output_type": "stream",
     "text": [
      "\u001b[32m2024-08-27 18:16:51\u001b[0m | %MTL: MTL(dim_ei=50, dim_ca1=50, dim_ca3=50, dim_eo=50,  bias=False, lr=1.0,beta=60, alpha=0.01, K_l=15, K_o=5\n",
      "100%|██████████████████████████████████████████| 100/100 [00:00<00:00, 6744.88it/s]\n"
     ]
    },
    {
     "data": {
      "image/png": "[encoded data removed]",
      "text/plain": [
       "<Figure size 640x480 with 2 Axes>"
      ]
     },
     "metadata": {},
     "output_type": "display_data"
    }
   ],
   "source": [
    "\"\"\" mtl training \"\"\"\n",
    "\n",
    "# get weights from the autoencoder\n",
    "if args.use_bias:\n",
    "    W_ei_ca1, W_ca1_eo, B_ei_ca1, B_ca1_eo = autoencoder.get_weights(bias=True)\n",
    "else:\n",
    "    W_ei_ca1, W_ca1_eo = autoencoder.get_weights(bias=False)\n",
    "    B_ei_ca1, B_ca1_eo = None, None\n",
    "    \n",
    "\n",
    "#logger.debug(f\"{W_ei_ca1.shape=}\\n{type(W_ei_ca1)}\")\n",
    "\n",
    "# make model\n",
    "model = models.MTL(W_ei_ca1=W_ei_ca1,\n",
    "            W_ca1_eo=W_ca1_eo,\n",
    "            B_ei_ca1=B_ei_ca1,\n",
    "            B_ca1_eo=B_ca1_eo,\n",
    "            dim_ca3=dim_ca3,\n",
    "            lr=1.,\n",
    "            K_lat=K_lat,\n",
    "            K_out=K,\n",
    "            beta=beta)\n",
    "\n",
    "logger(f\"%MTL: {model}\")\n",
    "\n",
    "# train model | testing = training without backprop\n",
    "epochs = 1\n",
    "for _ in range(epochs):\n",
    "   # _, model = utils.testing(data=training_sample_btsp,\n",
    "   #                                 model=model,\n",
    "   #                                 column=True)\n",
    "\n",
    "    #model.pause_lr()\n",
    "    loss_mtl, _, _ = utils.testing(data=training_sample_btsp,\n",
    "                                model=model,\n",
    "                                column=True,\n",
    "                                use_tensor=True,\n",
    "                                progressive_test=True)\n",
    "    #logger(f\"<<< MTL trained [{loss_mtl:.3f}] >>>\")\n",
    "\n",
    "# reconstruct data\n",
    "model.pause_lr()\n",
    "out_mtl, latent_mtl = utils.reconstruct_data(\n",
    "                                data=training_sample_btsp,\n",
    "                                num=num_btsp_samples,\n",
    "                                model=model,\n",
    "                                column=True,\n",
    "                                plot=False)\n",
    "\n",
    "plt.imshow(loss_mtl, vmin=0)\n",
    "plt.colorbar();"
   ]
  },
  {
   "cell_type": "markdown",
   "metadata": {},
   "source": [
    "#### attempt 2"
   ]
  },
  {
   "cell_type": "code",
   "execution_count": 5,
   "metadata": {},
   "outputs": [
    {
     "name": "stderr",
     "output_type": "stream",
     "text": [
      "\u001b[32m2024-08-27 18:17:02\u001b[0m | %MTL: MTL(dim_ei=50, dim_ca1=50, dim_ca3=50, dim_eo=50,  bias=False, lr=1.0,beta=60, alpha=0.01, K_l=15, K_o=5\n"
     ]
    },
    {
     "name": "stdout",
     "output_type": "stream",
     "text": [
      "torch.Size([1, 50])\n",
      "torch.Size([1, 50])\n",
      "torch.Size([1, 50])\n",
      "torch.Size([1, 50])\n",
      "torch.Size([1, 50])\n",
      "torch.Size([1, 50])\n",
      "torch.Size([1, 50])\n",
      "torch.Size([1, 50])\n",
      "torch.Size([1, 50])\n",
      "torch.Size([1, 50])\n",
      "torch.Size([1, 50])\n",
      "torch.Size([1, 50])\n",
      "torch.Size([1, 50])\n",
      "torch.Size([1, 50])\n",
      "torch.Size([1, 50])\n",
      "torch.Size([1, 50])\n",
      "torch.Size([1, 50])\n",
      "torch.Size([1, 50])\n",
      "torch.Size([1, 50])\n",
      "torch.Size([1, 50])\n",
      "torch.Size([1, 50])\n",
      "torch.Size([1, 50])\n",
      "torch.Size([1, 50])\n",
      "torch.Size([1, 50])\n",
      "torch.Size([1, 50])\n",
      "torch.Size([1, 50])\n",
      "torch.Size([1, 50])\n",
      "torch.Size([1, 50])\n",
      "torch.Size([1, 50])\n",
      "torch.Size([1, 50])\n",
      "torch.Size([1, 50])\n",
      "torch.Size([1, 50])\n",
      "torch.Size([1, 50])\n",
      "torch.Size([1, 50])\n",
      "torch.Size([1, 50])\n",
      "torch.Size([1, 50])\n",
      "torch.Size([1, 50])\n",
      "torch.Size([1, 50])\n",
      "torch.Size([1, 50])\n",
      "torch.Size([1, 50])\n",
      "torch.Size([1, 50])\n",
      "torch.Size([1, 50])\n",
      "torch.Size([1, 50])\n",
      "torch.Size([1, 50])\n",
      "torch.Size([1, 50])\n",
      "torch.Size([1, 50])\n",
      "torch.Size([1, 50])\n",
      "torch.Size([1, 50])\n",
      "torch.Size([1, 50])\n",
      "torch.Size([1, 50])\n",
      "torch.Size([1, 50])\n",
      "torch.Size([1, 50])\n",
      "torch.Size([1, 50])\n",
      "torch.Size([1, 50])\n",
      "torch.Size([1, 50])\n",
      "torch.Size([1, 50])\n",
      "torch.Size([1, 50])\n",
      "torch.Size([1, 50])\n",
      "torch.Size([1, 50])\n",
      "torch.Size([1, 50])\n",
      "torch.Size([1, 50])\n",
      "torch.Size([1, 50])\n",
      "torch.Size([1, 50])\n",
      "torch.Size([1, 50])\n",
      "torch.Size([1, 50])\n",
      "torch.Size([1, 50])\n",
      "torch.Size([1, 50])\n",
      "torch.Size([1, 50])\n",
      "torch.Size([1, 50])\n",
      "torch.Size([1, 50])\n",
      "torch.Size([1, 50])\n",
      "torch.Size([1, 50])\n",
      "torch.Size([1, 50])\n",
      "torch.Size([1, 50])\n",
      "torch.Size([1, 50])\n",
      "torch.Size([1, 50])\n",
      "torch.Size([1, 50])\n",
      "torch.Size([1, 50])\n",
      "torch.Size([1, 50])\n",
      "torch.Size([1, 50])\n",
      "torch.Size([1, 50])\n",
      "torch.Size([1, 50])\n",
      "torch.Size([1, 50])\n",
      "torch.Size([1, 50])\n",
      "torch.Size([1, 50])\n",
      "torch.Size([1, 50])\n",
      "torch.Size([1, 50])\n",
      "torch.Size([1, 50])\n",
      "torch.Size([1, 50])\n",
      "torch.Size([1, 50])\n",
      "torch.Size([1, 50])\n",
      "torch.Size([1, 50])\n",
      "torch.Size([1, 50])\n",
      "torch.Size([1, 50])\n",
      "torch.Size([1, 50])\n",
      "torch.Size([1, 50])\n",
      "torch.Size([1, 50])\n",
      "torch.Size([1, 50])\n",
      "torch.Size([1, 50])\n",
      "torch.Size([1, 50])\n",
      "torch.Size([1, 1])\n"
     ]
    },
    {
     "name": "stderr",
     "output_type": "stream",
     "text": [
      "/Users/daniekru/Research/lab/KAMemory/src/utils.py:423: UserWarning: To copy construct from a tensor, it is recommended to use sourceTensor.clone().detach() or sourceTensor.clone().detach().requires_grad_(True), rather than torch.tensor(sourceTensor).\n",
      "  data = torch.tensor(data[:k+1], dtype=torch.float32).detach()\n"
     ]
    },
    {
     "data": {
      "image/png": "[encoded data removed]",
      "text/plain": [
       "<Figure size 640x480 with 2 Axes>"
      ]
     },
     "metadata": {},
     "output_type": "display_data"
    }
   ],
   "source": [
    "\"\"\" mtl training \"\"\"\n",
    "\n",
    "# get weights from the autoencoder\n",
    "if args.use_bias:\n",
    "    W_ei_ca1, W_ca1_eo, B_ei_ca1, B_ca1_eo = autoencoder.get_weights(bias=True)\n",
    "else:\n",
    "    W_ei_ca1, W_ca1_eo = autoencoder.get_weights(bias=False)\n",
    "    B_ei_ca1 = None\n",
    "    B_ca1_eo = None\n",
    "\n",
    "# make model\n",
    "model = models.MTL(W_ei_ca1=W_ei_ca1,\n",
    "            W_ca1_eo=W_ca1_eo,\n",
    "            B_ei_ca1=B_ei_ca1,\n",
    "            B_ca1_eo=B_ca1_eo,\n",
    "            dim_ca3=dim_ca3,\n",
    "            lr=1.,\n",
    "            K_lat=K_lat,\n",
    "            K_out=K,\n",
    "            beta=beta)\n",
    "\n",
    "logger(f\"%MTL: {model}\")\n",
    "\n",
    "# train model | testing = training without backprop\n",
    "epochs = 1\n",
    "for _ in range(epochs):\n",
    "   # _, model = utils.testing(data=training_sample_btsp,\n",
    "   #                                 model=model,\n",
    "   #                                 column=True)\n",
    "\n",
    "    #model.pause_lr()\n",
    "    acc, _, = utils.progressive_testing(data=training_sample_btsp,\n",
    "                                model=model)\n",
    "\n",
    "plt.imshow(acc, vmin=0)\n",
    "plt.colorbar();"
   ]
  },
  {
   "cell_type": "code",
   "execution_count": 9,
   "metadata": {},
   "outputs": [
    {
     "data": {
      "text/plain": [
       "torch.Size([1, 1])"
      ]
     },
     "execution_count": 9,
     "metadata": {},
     "output_type": "execute_result"
    }
   ],
   "source": [
    "acc.shape"
   ]
  },
  {
   "cell_type": "code",
   "execution_count": 28,
   "metadata": {},
   "outputs": [
    {
     "name": "stderr",
     "output_type": "stream",
     "text": [
      "100%|██████████████████████████████████████████████| 10/10 [00:10<00:00,  1.04s/it]\n"
     ]
    },
    {
     "data": {
      "image/png": "[encoded data removed]",
      "text/plain": [
       "<Figure size 640x480 with 2 Axes>"
      ]
     },
     "metadata": {},
     "output_type": "display_data"
    }
   ],
   "source": [
    "NUM_REP = 10\n",
    "\n",
    "acc = np.zeros((args.num, args.num))\n",
    "for _ in tqdm(range(NUM_REP)):\n",
    "    model = models.MTL(W_ei_ca1=W_ei_ca1,\n",
    "                W_ca1_eo=W_ca1_eo,\n",
    "                B_ei_ca1=B_ei_ca1,\n",
    "                B_ca1_eo=B_ca1_eo,\n",
    "                dim_ca3=dim_ca3,\n",
    "                lr=1.,\n",
    "                K_lat=K_lat,\n",
    "                K_out=K,\n",
    "                beta=beta)\n",
    "    \n",
    "    #logger(f\"%MTL: {model}\")\n",
    "    \n",
    "    # train model | testing = training without backprop\n",
    "    acc_epoch, _, _ = utils.testing(data=training_sample_btsp,\n",
    "                                model=model,\n",
    "                                column=True,\n",
    "                                use_tensor=False,\n",
    "                                progressive_test=True)\n",
    "\n",
    "    acc += acc_epoch.numpy()\n",
    "    \n",
    "acc /= NUM_REP\n",
    "plt.imshow(acc, vmin=0, vmax=1)\n",
    "plt.title(f\"average over {NUM_REP}\")\n",
    "plt.colorbar();"
   ]
  },
  {
   "cell_type": "markdown",
   "metadata": {
    "jp-MarkdownHeadingCollapsed": true
   },
   "source": [
    "## Plotting"
   ]
  },
  {
   "cell_type": "code",
   "execution_count": null,
   "metadata": {},
   "outputs": [],
   "source": [
    "### \"\"\" plotting \"\"\"\n",
    "\n",
    "# fig, (ax1, ax2, ax3, ax4) = plt.subplots(4, 1, figsize=(15, 5), sharex=True)\n",
    "\n",
    "fig, (ax1, ax2, ax3) = plt.subplots(3, 1, figsize=(15, 5), sharex=True)\n",
    "is_squash = False\n",
    "\n",
    "utils.plot_squashed_data(\n",
    "    data=training_sample_btsp,\n",
    "                         ax=ax1,\n",
    "                         title=\"Patterns\", squash=is_squash)\n",
    "utils.plot_squashed_data(data=latent_ae, ax=ax2,\n",
    "                         title=\"Autoencoder\",\n",
    "                         squash=is_squash)\n",
    "utils.plot_squashed_data(data=latent_mtl, ax=ax3,\n",
    "                         title=\"MTL\", squash=is_squash)\n",
    "\n",
    "fig.suptitle(f\"Latent layers - $K_l=${K_lat} $\\\\beta=${autoencoder._beta}\")\n",
    "\n",
    "#\n",
    "fig2, (ax12, ax22, ax32) = plt.subplots(3, 1, figsize=(15, 5), sharex=True)\n",
    "is_squash = False\n",
    "\n",
    "utils.plot_squashed_data(\n",
    "    data=training_sample_btsp,\n",
    "                         ax=ax12,\n",
    "                         title=\"Patterns\", squash=is_squash)\n",
    "utils.plot_squashed_data(data=out_ae, ax=ax22,\n",
    "                         title=\"Autoencoder\",\n",
    "                         squash=is_squash)\n",
    "utils.plot_squashed_data(data=out_mtl, ax=ax32,\n",
    "                         title=\"MTL\",\n",
    "                         squash=is_squash)\n",
    "\n",
    "fig2.suptitle(f\"Data reconstruction of {num_btsp_samples} patterns - $K=${K} $\\\\beta=${autoencoder._beta}\",\n",
    "              fontsize=15)\n",
    "\n",
    "#\n",
    "fig3, (ax13) = plt.subplots(1, 1, figsize=(15, 5), sharex=True)\n",
    "cbar = plt.colorbar(\n",
    "    ax13.imshow(training_sample_btsp - out_mtl,\n",
    "                cmap=\"seismic\",\n",
    "                aspect=\"auto\"))\n",
    "ax13.set_yticks(range(num_btsp_samples))\n",
    "\n",
    "cbar.set_label(\"Error\")\n",
    "ax13.set_title(\"pattern - mtl\")\n",
    "plt.show()\n",
    "\n"
   ]
  },
  {
   "cell_type": "code",
   "execution_count": null,
   "metadata": {},
   "outputs": [],
   "source": [
    "plt.imshow(loss_mtl, vmin=0)\n",
    "plt.colorbar();"
   ]
  },
  {
   "cell_type": "code",
   "execution_count": null,
   "metadata": {},
   "outputs": [],
   "source": [
    "dd"
   ]
  }
 ],
 "metadata": {
  "kernelspec": {
   "display_name": "Python 3 (ipykernel)",
   "language": "python",
   "name": "python3"
  },
  "language_info": {
   "codemirror_mode": {
    "name": "ipython",
    "version": 3
   },
   "file_extension": ".py",
   "mimetype": "text/x-python",
   "name": "python",
   "nbconvert_exporter": "python",
   "pygments_lexer": "ipython3",
   "version": "3.11.9"
  }
 },
 "nbformat": 4,
 "nbformat_minor": 4
}
