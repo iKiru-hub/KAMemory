{
 "cells": [
  {
   "cell_type": "code",
   "execution_count": null,
   "metadata": {
    "id": "1WuYtba2S81N"
   },
   "outputs": [],
   "source": [
    "import torch\n",
    "import torch.nn as nn"
   ]
  },
  {
   "cell_type": "code",
   "execution_count": null,
   "metadata": {
    "id": "s9WTh_XtTPZF"
   },
   "outputs": [],
   "source": [
    "class MTL(nn.Module):\n",
    "    def __init__(self, n_entorhinal_in, n_ca3, n_ca1, n_entorhinal_out):\n",
    "        super(MTL, self).__init__()\n",
    "\n",
    "        #network parameters\n",
    "        self.beta_btsp = 0.9\n",
    "\n",
    "        # Initialize weight matrices for each layer\n",
    "        self.W_ei_ca3 = nn.Parameter(torch.randn(n_entorhinal_in, n_ca3))\n",
    "        self.W_ei_ca1 = nn.Parameter(torch.randn(n_entorhinal_in, n_ca1))\n",
    "        self.W_ca3_ca1 = nn.Parameter(torch.randn(n_ca3, n_ca1))\n",
    "        self.W_ca1_eo = nn.Parameter(torch.randn(n_ca1, n_entorhinal_out))\n",
    "\n",
    "    def forward(self, x_ei):\n",
    "        # Forward pass through the entorhinal cortex to CA3\n",
    "        x_ca3 = torch.matmul(x_ei, self.W_ei_ca3)\n",
    "        #x = torch.relu(x)  # Activation function (ReLU)\n",
    "\n",
    "        # Forward pass through CA3 to CA1\n",
    "        x_ca1 = torch.matmul(x_ca3, self.W_ca3_ca1)\n",
    "        #x = torch.relu(x)  # Activation function (ReLU)\n",
    "\n",
    "        #compute instructive signal\n",
    "        IS = torch.matmul(x_ei, self.W_ei_ca1)\n",
    "\n",
    "        #update ca3 -> ca1 connectivity via BTSP\n",
    "        W_ca3_ca1_prime  = nn.Parameter(torch.einsum('im,in->imn', x_ca3, IS))\n",
    "        self.W_ca3_ca1 = nn.Parameter((1 - self.beta_btsp)*self.W_ca3_ca1 + self.beta_btsp*W_ca3_ca1_prime)\n",
    "\n",
    "\n",
    "        # Forward pass through CA1 to entorhinal cortex output\n",
    "        x_eo = torch.matmul(x_ca1, self.W_ca1_eo)\n",
    "        #x = torch.relu(x)  # Activation function (ReLU)\n",
    "\n",
    "        return x_eo"
   ]
  },
  {
   "cell_type": "code",
   "execution_count": null,
   "metadata": {
    "id": "FFiR4dwOTb0H"
   },
   "outputs": [],
   "source": [
    "# Example usage\n",
    "n_entorhinal_in = 100\n",
    "n_ca3 = 200\n",
    "n_ca1 = 150\n",
    "n_entorhinal_out = 100\n",
    "\n",
    "network = MTL(n_entorhinal_in, n_ca3, n_ca1, n_entorhinal_out)"
   ]
  },
  {
   "cell_type": "code",
   "execution_count": null,
   "metadata": {
    "colab": {
     "base_uri": "https://localhost:8080/"
    },
    "id": "JtykRbucTcvD",
    "outputId": "d5412244-ecdf-4a14-b1e5-24cdffb8a622"
   },
   "outputs": [
    {
     "name": "stdout",
     "output_type": "stream",
     "text": [
      "tensor([[[ -828109.2500, -2431570.2500,  2248487.0000, -3377903.5000,\n",
      "          -7256623.0000, -1265284.0000,   705316.6250,  3768275.2500,\n",
      "          -3346849.7500, -1362203.6250,  3239516.5000,   372517.4375,\n",
      "            222799.2031,  4753923.0000,  1697995.1250, -2359737.0000,\n",
      "          -3376488.0000, -2174224.7500, -1635557.6250, -1312488.0000,\n",
      "           7309594.0000, -2257230.2500,  3105848.0000,  1698194.2500,\n",
      "           1783592.1250,  -218549.5781,  -765356.5625,  -590373.2500,\n",
      "            258794.9688, -2569851.2500,  -645466.6250,   865262.0625,\n",
      "           -332693.3438,  3538089.0000,  1892420.6250, -3281589.5000,\n",
      "            755682.1250,   599740.3125,  1957883.8750, -1949523.7500,\n",
      "            -90988.0469,  2998818.2500, -3008883.2500, -5017602.0000,\n",
      "            957276.1875, -3724553.5000,  1044929.2500,  3254864.2500,\n",
      "          -1077123.2500, -2731304.7500, -2578856.5000,  2773974.7500,\n",
      "           -493858.9375,  3154586.0000,  1261040.5000,  -511922.9375,\n",
      "          -2640615.7500, -3953168.7500,  5432318.5000,   -59155.7969,\n",
      "          -2221344.7500,    14344.1504,   804512.3750,  -357456.0625,\n",
      "          -2449879.0000,  1157644.3750,  1362454.8750, -1629384.3750,\n",
      "          -5452935.5000, -3334537.2500,  -353033.0938, -1450003.1250,\n",
      "           1033895.8750,  3040855.7500,   827566.3125, -1052703.5000,\n",
      "            921794.7500, -1415921.5000,  2149707.5000,  -745362.4375,\n",
      "           4839736.0000, -4890375.0000,    36157.8242,  1806080.3750,\n",
      "           3947856.2500,  3660804.5000,  1381463.3750,   968932.5000,\n",
      "           2124918.7500,  5157441.0000, -4640464.0000,  3648636.5000,\n",
      "           2891691.5000, -2818240.2500, -2593059.2500,    57118.5859,\n",
      "            731281.3125, -1183956.5000, -1336770.0000,    15571.9600]]],\n",
      "       grad_fn=<UnsafeViewBackward0>)\n"
     ]
    }
   ],
   "source": [
    "input_data = torch.randn(1, n_entorhinal_in)  # Batch size of 1 for simplicity\n",
    "output_data = network(input_data)\n",
    "print(output_data)"
   ]
  },
  {
   "cell_type": "code",
   "execution_count": null,
   "metadata": {
    "id": "AsAUSmyNdQYD"
   },
   "outputs": [],
   "source": []
  }
 ],
 "metadata": {
  "colab": {
   "provenance": []
  },
  "jupytext": {
   "main_language": "python"
  },
  "kernelspec": {
   "display_name": "Python 3",
   "name": "python3"
  },
  "language_info": {
   "name": "python"
  }
 },
 "nbformat": 4,
 "nbformat_minor": 0
}
